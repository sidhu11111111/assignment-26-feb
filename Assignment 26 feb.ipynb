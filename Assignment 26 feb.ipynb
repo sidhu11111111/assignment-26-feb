{
 "cells": [
  {
   "cell_type": "code",
   "execution_count": 1,
   "id": "8ea91348-4757-499b-ba45-238028da7c2d",
   "metadata": {},
   "outputs": [],
   "source": [
    "import numpy as np"
   ]
  },
  {
   "cell_type": "code",
   "execution_count": 2,
   "id": "0df81ad7-a111-402a-b10d-8d4afefe863f",
   "metadata": {},
   "outputs": [],
   "source": [
    "list_ =['1','2','3','4','5']"
   ]
  },
  {
   "cell_type": "code",
   "execution_count": 3,
   "id": "d0f4b71c-4d24-486e-805c-73210224bad9",
   "metadata": {},
   "outputs": [],
   "source": [
    "array_list = np.array(object=list_)"
   ]
  },
  {
   "cell_type": "markdown",
   "id": "f9a95673-bee8-4d2c-a39b-dc6bfaf24fae",
   "metadata": {},
   "source": [
    "#QNO.1 ANS"
   ]
  },
  {
   "cell_type": "code",
   "execution_count": 5,
   "id": "63360a8e-1c5c-4930-83d0-3ae139468fa2",
   "metadata": {},
   "outputs": [
    {
     "data": {
      "text/plain": [
       "['1', '2', '3', '4', '5']"
      ]
     },
     "execution_count": 5,
     "metadata": {},
     "output_type": "execute_result"
    }
   ],
   "source": [
    "list_"
   ]
  },
  {
   "cell_type": "code",
   "execution_count": 6,
   "id": "73e321ef-d56e-40c7-8f9d-97e312668285",
   "metadata": {},
   "outputs": [
    {
     "data": {
      "text/plain": [
       "array(['1', '2', '3', '4', '5'], dtype='<U1')"
      ]
     },
     "execution_count": 6,
     "metadata": {},
     "output_type": "execute_result"
    }
   ],
   "source": [
    "array_list"
   ]
  },
  {
   "cell_type": "markdown",
   "id": "74e64b34-ea48-484b-9ed0-c763a9d38da4",
   "metadata": {},
   "source": [
    "#Yes, there is a difference in the data type of variables list_ and array_list.\n",
    "\n",
    "The list_ variable is a Python list object, which can hold elements of different data types. In this case, it holds string objects.\n",
    "\n",
    "The array_list variable is a NumPy array object, which can hold elements of a single data type. In this case, it holds string objects as well, but they are stored as a homogeneous array of strings"
   ]
  },
  {
   "cell_type": "code",
   "execution_count": 10,
   "id": "c1ffaddf-819e-4397-97bd-011ecf89f346",
   "metadata": {},
   "outputs": [
    {
     "name": "stdout",
     "output_type": "stream",
     "text": [
      "<class 'list'>\n"
     ]
    }
   ],
   "source": [
    "print(type(list_))"
   ]
  },
  {
   "cell_type": "code",
   "execution_count": 11,
   "id": "ce1976d4-48e1-4de2-8859-218ecf3051ae",
   "metadata": {},
   "outputs": [
    {
     "name": "stdout",
     "output_type": "stream",
     "text": [
      "<class 'numpy.ndarray'>\n"
     ]
    }
   ],
   "source": [
    "print(type(array_list))"
   ]
  },
  {
   "cell_type": "markdown",
   "id": "8550a719-575c-4d93-a4fa-c931626185d6",
   "metadata": {},
   "source": [
    "#QNO.2 ANS"
   ]
  },
  {
   "cell_type": "code",
   "execution_count": 18,
   "id": "acfb4d24-4d73-4119-b336-fc7b4c83c370",
   "metadata": {},
   "outputs": [
    {
     "name": "stdout",
     "output_type": "stream",
     "text": [
      "<class 'str'>\n",
      "<class 'str'>\n",
      "<class 'str'>\n",
      "<class 'str'>\n",
      "<class 'str'>\n",
      "<class 'numpy.str_'>\n",
      "<class 'numpy.str_'>\n",
      "<class 'numpy.str_'>\n",
      "<class 'numpy.str_'>\n",
      "<class 'numpy.str_'>\n"
     ]
    }
   ],
   "source": [
    "import numpy as np\n",
    "list =['1','2','3','4','5']\n",
    "array_list = np.array(object = list_)\n",
    "\n",
    "for element in list_:\n",
    "    print(type(element))\n",
    "    \n",
    "for element in array_list:\n",
    "    print(type(element))"
   ]
  },
  {
   "cell_type": "markdown",
   "id": "f9bcfe12-572e-49d6-8923-827e79452415",
   "metadata": {},
   "source": [
    "#QNO.3 ANS"
   ]
  },
  {
   "cell_type": "code",
   "execution_count": 19,
   "id": "76261185-977a-418f-9cfd-01b61b7f8641",
   "metadata": {},
   "outputs": [],
   "source": [
    "list_ =['1','2','3','4','5']"
   ]
  },
  {
   "cell_type": "code",
   "execution_count": 20,
   "id": "64490219-bd0a-4434-b219-254ca1164651",
   "metadata": {},
   "outputs": [],
   "source": [
    "array_list = np.array(object = list_, dtype =int)"
   ]
  },
  {
   "cell_type": "code",
   "execution_count": 21,
   "id": "25eda4cc-4e3c-4cf9-bed1-f8d0d1d4c635",
   "metadata": {},
   "outputs": [
    {
     "data": {
      "text/plain": [
       "['1', '2', '3', '4', '5']"
      ]
     },
     "execution_count": 21,
     "metadata": {},
     "output_type": "execute_result"
    }
   ],
   "source": [
    "list_"
   ]
  },
  {
   "cell_type": "code",
   "execution_count": 22,
   "id": "73cca3c2-9d29-47b2-ae85-f6ce9014cde6",
   "metadata": {},
   "outputs": [
    {
     "data": {
      "text/plain": [
       "array([1, 2, 3, 4, 5])"
      ]
     },
     "execution_count": 22,
     "metadata": {},
     "output_type": "execute_result"
    }
   ],
   "source": [
    "array_list"
   ]
  },
  {
   "cell_type": "code",
   "execution_count": 23,
   "id": "ab3467ea-b756-4eca-baf0-03ba89b4ed28",
   "metadata": {},
   "outputs": [
    {
     "name": "stdout",
     "output_type": "stream",
     "text": [
      "<class 'list'>\n"
     ]
    }
   ],
   "source": [
    "print(type(list_))"
   ]
  },
  {
   "cell_type": "code",
   "execution_count": 24,
   "id": "60f81cbb-1ad0-4649-9d23-77b43cee68f6",
   "metadata": {},
   "outputs": [
    {
     "name": "stdout",
     "output_type": "stream",
     "text": [
      "<class 'numpy.ndarray'>\n"
     ]
    }
   ],
   "source": [
    "print(type(array_list))"
   ]
  },
  {
   "cell_type": "code",
   "execution_count": 25,
   "id": "6ff41a6a-1a39-42f0-addf-e62a090dc63d",
   "metadata": {},
   "outputs": [
    {
     "name": "stdout",
     "output_type": "stream",
     "text": [
      "<class 'str'>\n",
      "<class 'str'>\n",
      "<class 'str'>\n",
      "<class 'str'>\n",
      "<class 'str'>\n",
      "<class 'numpy.int64'>\n",
      "<class 'numpy.int64'>\n",
      "<class 'numpy.int64'>\n",
      "<class 'numpy.int64'>\n",
      "<class 'numpy.int64'>\n"
     ]
    }
   ],
   "source": [
    "import numpy as np\n",
    "list_ =['1','2','3','4','5']\n",
    "array_list = np.array(object = list_, dtype =int)\n",
    "\n",
    "for element in list_:\n",
    "    print(type(element))\n",
    "    \n",
    "for element in array_list:\n",
    "    print(type(element))"
   ]
  },
  {
   "cell_type": "code",
   "execution_count": null,
   "id": "ed41caa1-faab-4ff5-8307-20ba5053ea31",
   "metadata": {},
   "outputs": [],
   "source": []
  },
  {
   "cell_type": "code",
   "execution_count": 26,
   "id": "6cf4a82e-c8b9-46f5-b72f-975d9c723261",
   "metadata": {},
   "outputs": [],
   "source": [
    "import numpy as np"
   ]
  },
  {
   "cell_type": "code",
   "execution_count": 28,
   "id": "ed5aca61-84ba-4c8e-be73-71a82905e4df",
   "metadata": {},
   "outputs": [],
   "source": [
    "num_list =[[1,2,3],[4,5,6]]"
   ]
  },
  {
   "cell_type": "code",
   "execution_count": 29,
   "id": "4247893d-78b1-4270-b97a-67becd040b31",
   "metadata": {},
   "outputs": [],
   "source": [
    "num_array = np.array(object = num_list)"
   ]
  },
  {
   "cell_type": "markdown",
   "id": "efb6d1b3-ccf7-4e1e-a203-c0e84da52fd8",
   "metadata": {},
   "source": [
    "#QNO.4 ANS"
   ]
  },
  {
   "cell_type": "code",
   "execution_count": 31,
   "id": "055df03f-a39e-41fe-b172-87219d63a4ae",
   "metadata": {},
   "outputs": [
    {
     "data": {
      "text/plain": [
       "(2, 3)"
      ]
     },
     "execution_count": 31,
     "metadata": {},
     "output_type": "execute_result"
    }
   ],
   "source": [
    "num_array.shape"
   ]
  },
  {
   "cell_type": "code",
   "execution_count": 32,
   "id": "405bd29e-317a-4a6d-a852-5a28863f242f",
   "metadata": {},
   "outputs": [
    {
     "data": {
      "text/plain": [
       "6"
      ]
     },
     "execution_count": 32,
     "metadata": {},
     "output_type": "execute_result"
    }
   ],
   "source": [
    "num_array.size"
   ]
  },
  {
   "cell_type": "markdown",
   "id": "53f6679b-a0ce-4b22-89de-12237599ba91",
   "metadata": {},
   "source": [
    "#QNO.5 ANS"
   ]
  },
  {
   "cell_type": "code",
   "execution_count": 35,
   "id": "6f55e22b-2660-45b6-b32e-efddb16a0d52",
   "metadata": {},
   "outputs": [
    {
     "data": {
      "text/plain": [
       "array([[0., 0., 0.],\n",
       "       [0., 0., 0.],\n",
       "       [0., 0., 0.]])"
      ]
     },
     "execution_count": 35,
     "metadata": {},
     "output_type": "execute_result"
    }
   ],
   "source": [
    "import numpy as np\n",
    "np.zeros((3,3))"
   ]
  },
  {
   "cell_type": "markdown",
   "id": "4862c38c-e2d1-45af-9c20-8edba3eb71f2",
   "metadata": {},
   "source": [
    "#QNO.6 ANS"
   ]
  },
  {
   "cell_type": "code",
   "execution_count": 37,
   "id": "f0217869-d55a-412e-ba49-840e01246eef",
   "metadata": {},
   "outputs": [
    {
     "data": {
      "text/plain": [
       "array([[1., 0., 0., 0., 0.],\n",
       "       [0., 1., 0., 0., 0.],\n",
       "       [0., 0., 1., 0., 0.],\n",
       "       [0., 0., 0., 1., 0.],\n",
       "       [0., 0., 0., 0., 1.]])"
      ]
     },
     "execution_count": 37,
     "metadata": {},
     "output_type": "execute_result"
    }
   ],
   "source": [
    "import numpy as np\n",
    "np.eye(5)"
   ]
  }
 ],
 "metadata": {
  "kernelspec": {
   "display_name": "Python 3 (ipykernel)",
   "language": "python",
   "name": "python3"
  },
  "language_info": {
   "codemirror_mode": {
    "name": "ipython",
    "version": 3
   },
   "file_extension": ".py",
   "mimetype": "text/x-python",
   "name": "python",
   "nbconvert_exporter": "python",
   "pygments_lexer": "ipython3",
   "version": "3.10.8"
  }
 },
 "nbformat": 4,
 "nbformat_minor": 5
}
